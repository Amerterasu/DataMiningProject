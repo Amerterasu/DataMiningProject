{
 "cells": [
  {
   "cell_type": "code",
   "execution_count": 3,
   "metadata": {},
   "outputs": [],
   "source": [
    "from scipy import linalg\n",
    "import numpy as np"
   ]
  },
  {
   "cell_type": "code",
   "execution_count": 7,
   "metadata": {},
   "outputs": [],
   "source": [
    "mtx = [\n",
    "    [0, 0, 2, 3, 1],\n",
    "    [2, 0, 0, 0, 0],\n",
    "    [1, 0, 1, 0, 1],\n",
    "    [0, 3, 2, 2, 0],\n",
    "    [2, 3, 0, 0, 1]\n",
    "]\n",
    "\n",
    "arr = np.array(mtx)\n",
    "u,s,v = linalg.svd(arr)"
   ]
  },
  {
   "cell_type": "code",
   "execution_count": 8,
   "metadata": {},
   "outputs": [
    {
     "data": {
      "text/plain": [
       "array([[-0.49196779,  0.62662908,  0.41921754,  0.01429905,  0.43515041],\n",
       "       [-0.08375982, -0.298447  ,  0.57091368, -0.73592468, -0.19075144],\n",
       "       [-0.16344094, -0.06193866,  0.50582256,  0.59225576, -0.60235149],\n",
       "       [-0.70918163,  0.08707368, -0.49173893, -0.2204233 , -0.44619052],\n",
       "       [-0.47042583, -0.71193199,  0.02550656,  0.2426048 ,  0.46080875]])"
      ]
     },
     "execution_count": 8,
     "metadata": {},
     "output_type": "execute_result"
    }
   ],
   "source": [
    "u"
   ]
  },
  {
   "cell_type": "code",
   "execution_count": 9,
   "metadata": {},
   "outputs": [
    {
     "data": {
      "text/plain": [
       "array([ 5.51072351,  3.73589273,  2.43940209,  1.03528031,  0.807802  ])"
      ]
     },
     "execution_count": 9,
     "metadata": {},
     "output_type": "execute_result"
    }
   ],
   "source": [
    "s"
   ]
  },
  {
   "cell_type": "code",
   "execution_count": 10,
   "metadata": {},
   "outputs": [
    {
     "data": {
      "text/plain": [
       "array([[-0.23078862, -0.64217019, -0.46559037, -0.52520629, -0.20429887],\n",
       "       [-0.55748299, -0.50177429,  0.36549948,  0.54981092, -0.03941269],\n",
       "       [ 0.69634402, -0.57337702,  0.14789681,  0.11239424,  0.38966379],\n",
       "       [-0.38094417,  0.06427679,  0.17387297, -0.38438811,  0.82022193],\n",
       "       [-0.0770447 ,  0.05428891, -0.77300095,  0.51135079,  0.36346491]])"
      ]
     },
     "execution_count": 10,
     "metadata": {},
     "output_type": "execute_result"
    }
   ],
   "source": [
    "v"
   ]
  },
  {
   "cell_type": "code",
   "execution_count": null,
   "metadata": {
    "collapsed": true
   },
   "outputs": [],
   "source": []
  }
 ],
 "metadata": {
  "kernelspec": {
   "display_name": "Python 3",
   "language": "python",
   "name": "python3"
  },
  "language_info": {
   "codemirror_mode": {
    "name": "ipython",
    "version": 3
   },
   "file_extension": ".py",
   "mimetype": "text/x-python",
   "name": "python",
   "nbconvert_exporter": "python",
   "pygments_lexer": "ipython3",
   "version": "3.5.1"
  }
 },
 "nbformat": 4,
 "nbformat_minor": 2
}
