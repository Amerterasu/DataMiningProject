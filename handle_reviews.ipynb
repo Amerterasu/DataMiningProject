{
 "cells": [
  {
   "cell_type": "code",
   "execution_count": 83,
   "metadata": {
    "collapsed": true
   },
   "outputs": [],
   "source": [
    "from collections import OrderedDict\n",
    "import decimal\n",
    "import json\n",
    "import csv\n",
    "import numpy as np\n",
    "import matplotlib as plt\n",
    "from scipy.sparse import linalg\n",
    "from scipy import dot"
   ]
  },
  {
   "cell_type": "code",
   "execution_count": 118,
   "metadata": {
    "collapsed": true
   },
   "outputs": [],
   "source": [
    "def generate_user_set(user_file):\n",
    "#     produce user_id set\n",
    "#     trim irrelevant user data\n",
    "    userset = set()\n",
    "    users = {}\n",
    "    \n",
    "    with open(user_file) as all_user_data:\n",
    "        \n",
    "        for record in all_user_data:\n",
    "            \n",
    "            user = json.loads(record)\n",
    "            \n",
    "            sufs = ['hot', 'more', 'profile', 'cute', 'list', 'note', 'plain', 'cool', 'funny', 'writer', 'photos']\n",
    "            comps = ['compliment_'+suf for suf in sufs]\n",
    "            \n",
    "            remove_keys = ['type', 'yelping_since', 'elite', 'name']\n",
    "            remove_keys.extend(comps)\n",
    "            user_id = user.pop('user_id')\n",
    "            friends = user.pop('friends')\n",
    "            user['gave_useful'] = user.pop('useful')\n",
    "            user['gave_cool'] = user.pop('cool')\n",
    "            user['gave_funny'] = user.pop('funny')\n",
    "            user['friends'] = len(friends) if friends[0] != 'None' else 0\n",
    "            \n",
    "            for key in remove_keys:\n",
    "                user.pop(key)\n",
    "                \n",
    "            userset.add(user_id)\n",
    "            users[user_id] = user\n",
    "    \n",
    "    return userset, users\n",
    "\n",
    "def process_reviews_by_user(review_file, user_set):\n",
    "    \n",
    "    user_dict = {}\n",
    "    with open(review_file) as all_review_data:\n",
    "        \n",
    "        for record in all_review_data:\n",
    "            review = json.loads(record)\n",
    "            \n",
    "            remove_keys = ['type', 'text', 'date', 'review_id']\n",
    "            \n",
    "            for key in remove_keys:\n",
    "                review.pop(key)\n",
    "            \n",
    "            user_id = review.pop('user_id')\n",
    "            business_id = review.pop('business_id')\n",
    "            stars = review.pop('stars')\n",
    "                \n",
    "            if user_id in user_set:\n",
    "                user_dict[user_id] = review\n",
    "                user_dict[user_id]['business_ids'] = [business_id]\n",
    "                user_dict[user_id]['star_list'] = [stars]\n",
    "                user_set.remove(user_id)\n",
    "            else:\n",
    "#                 user_id not in set, was added to dict\n",
    "                for key, value in review.items():\n",
    "                    user_dict[user_id][key] += value\n",
    "                user_dict[user_id]['business_ids'].append(business_id)\n",
    "                user_dict[user_id]['star_list'].append(stars)\n",
    "    \n",
    "    return user_dict\n",
    "\n",
    "users_file = 'yelp_data/yelp_academic_dataset_user.json'\n",
    "review_file = 'yelp_data/yelp_academic_dataset_review.json'\n",
    "            "
   ]
  },
  {
   "cell_type": "code",
   "execution_count": 119,
   "metadata": {
    "collapsed": true
   },
   "outputs": [],
   "source": [
    "userset, users = generate_user_set(users_file)"
   ]
  },
  {
   "cell_type": "code",
   "execution_count": 120,
   "metadata": {},
   "outputs": [],
   "source": [
    "user_dict = process_reviews_by_user(review_file, userset)"
   ]
  },
  {
   "cell_type": "code",
   "execution_count": 121,
   "metadata": {},
   "outputs": [
    {
     "name": "stdout",
     "output_type": "stream",
     "text": [
      "SEh6win-GkWhb6m1txR8BA\n",
      "{'cool': 1, 'business_ids': ['3Mx4renubPRnjHUw1n2UkA'], 'funny': 4, 'star_list': [1], 'useful': 16}\n",
      "4fl071XokVipTCRGVTGMaA\n",
      "{'cool': 0, 'business_ids': ['PsTzoIERiCjq6QHrOnk2Lg'], 'funny': 0, 'star_list': [4], 'useful': 1}\n",
      "XBnhevK2NyS620Sn2VmzAA\n",
      "{'cool': 1, 'business_ids': ['-Zk7UMlZqbwWYcyAghD-cw'], 'funny': 0, 'star_list': [1], 'useful': 2}\n",
      "7hidZRikh-PpqTsXOORV7w\n",
      "{'cool': 0, 'business_ids': ['pHJu8tj3sI8eC5aIHLFEfQ'], 'funny': 0, 'star_list': [5], 'useful': 0}\n",
      "LOPyVI7uOLOCwvXBrQBnVg\n",
      "{'cool': 0, 'business_ids': ['pwAUK5IdkBV2ddliPvNx-g'], 'funny': 0, 'star_list': [3], 'useful': 0}\n",
      "N6__iT2ZijklpgxVmz7_ug\n",
      "{'cool': 0, 'business_ids': ['BTcY04QFiS1uh-RpkR7rAg', 'MffsS7AXw8DahmQoTaNUGQ'], 'funny': 2, 'star_list': [1, 5], 'useful': 0}\n",
      "nYCla-7QSdun4Wr0GcEEAw\n",
      "{'cool': 0, 'business_ids': ['JkncPZ1jFi0_n23Ptl8jGQ'], 'funny': 0, 'star_list': [5], 'useful': 0}\n",
      "9v0y9tSYO-G06M_a0jUT6A\n",
      "{'cool': 0, 'business_ids': ['rXUZNVlpWMV5ORDDSguOEQ', 'vHlF8VSkELv6nKz5W4GDnw', 'DrJ6xjGcQJfMllS19S527Q', '5onric5Vkk9bkN0z7hmeFA'], 'funny': 2, 'star_list': [3, 4, 1, 2], 'useful': 3}\n",
      "-h9FFKHe1xVMS5m7bjzDdQ\n",
      "{'cool': 10, 'business_ids': ['2pAaYEpVsAy3XNLpmPxCoA', 'CLNqviorDO-pQvxTTy3kbA', 'yB2brwHDNOwaeazrq_dHLA', 'yoQziUwhIFsKGNTOvpzsDQ', 'ejKXczjEkm1gzyRdblQm8w', 'tTzQZTrwBgwxMch77nCJfQ', 'XjMyZ-ktItOhAvZa7c7PSg', 'yxdmX8dXk5Se9zJ4WAW1pw', 'lCbvbCkJOn2ABdHrcFqNzQ', 'FhgAHo-8--equM8w5UZ41Q', 'qEneEkjgJp8pLty7dIy_YA', 'k3JMFhqUyfQte9Q0-MOmeg'], 'funny': 7, 'star_list': [4, 3, 2, 5, 4, 4, 4, 4, 5, 2, 4, 4], 'useful': 18}\n",
      "VVpPioFTidnVB09A7t5FQQ\n",
      "{'cool': 0, 'business_ids': ['wSyzTB_kznAYBTi_mbD44g', 'aqMfCbFNeWn1a4Evds83fg'], 'funny': 0, 'star_list': [2, 5], 'useful': 1}\n",
      "FSdts-TifeFxj88NPtmwjA\n",
      "{'cool': 1, 'business_ids': ['JPfi__QJAaRzmfh5aOyFEw', 'dKdApYVFDSNYsNOso6NYlA'], 'funny': 1, 'star_list': [5, 2], 'useful': 2}\n"
     ]
    }
   ],
   "source": [
    "count = 0\n",
    "for key, val in user_dict.items():\n",
    "    if count > 100000:\n",
    "        print(key)\n",
    "        print(val)\n",
    "    if count > 100010:\n",
    "        break\n",
    "    count += 1"
   ]
  },
  {
   "cell_type": "code",
   "execution_count": 122,
   "metadata": {
    "collapsed": true
   },
   "outputs": [],
   "source": [
    "master_users = {}\n",
    "for uid, data in list(user_dict.items()):\n",
    "    master_users[uid] = {**data, **users[uid]}"
   ]
  },
  {
   "cell_type": "code",
   "execution_count": 123,
   "metadata": {},
   "outputs": [
    {
     "name": "stdout",
     "output_type": "stream",
     "text": [
      "1029432\n",
      "1029432\n"
     ]
    }
   ],
   "source": [
    "print(len(master_users))\n",
    "print(len(users))"
   ]
  },
  {
   "cell_type": "code",
   "execution_count": 124,
   "metadata": {},
   "outputs": [
    {
     "name": "stdout",
     "output_type": "stream",
     "text": [
      "vrJIsz1BbGUl24zQRw08cQ\n",
      "{'business_ids': ['bcyKUgFBUogjjInuhsloqw', '0NxNTtgpfjBIOdLW5IJhCQ'], 'review_count': 3, 'star_list': [5, 5], 'average_stars': 3.67, 'gave_funny': 0, 'fans': 0, 'cool': 1, 'gave_useful': 0, 'friends': 0, 'funny': 1, 'useful': 2, 'gave_cool': 0}\n",
      "Q96ZvYyAYvfkhGDObyHhEA\n",
      "{'business_ids': ['JHWBGE2Yy_AIadqSTr5LNA', 'FsCujpVh9Za2Dl5MIYLCxA'], 'review_count': 2, 'star_list': [5, 5], 'average_stars': 5.0, 'gave_funny': 0, 'fans': 0, 'cool': 1, 'gave_useful': 0, 'friends': 245, 'funny': 0, 'useful': 2, 'gave_cool': 1}\n",
      "sHrZaI6beSY_osgMdlIWww\n",
      "{'business_ids': ['oN_A87dyVD2FBk7coLnhCg'], 'review_count': 1, 'star_list': [5], 'average_stars': 5.0, 'gave_funny': 0, 'fans': 0, 'cool': 0, 'gave_useful': 0, 'friends': 0, 'funny': 0, 'useful': 0, 'gave_cool': 0}\n",
      "UQwlQQcw8FsU5zIKlgoWIA\n",
      "{'business_ids': ['lSdTgM_JOdGd7Wd6nR77sA'], 'review_count': 18, 'star_list': [5], 'average_stars': 4.89, 'gave_funny': 5, 'fans': 1, 'cool': 0, 'gave_useful': 18, 'friends': 35, 'funny': 0, 'useful': 0, 'gave_cool': 4}\n",
      "fIkVA9EetRXoh2lhf35qGg\n",
      "{'business_ids': ['WrHu03srbhJAw6bnTIixdw'], 'review_count': 1, 'star_list': [2], 'average_stars': 2.0, 'gave_funny': 0, 'fans': 0, 'cool': 0, 'gave_useful': 0, 'friends': 8, 'funny': 0, 'useful': 0, 'gave_cool': 0}\n",
      "V631vIG_cs72fBG3T-hbnQ\n",
      "{'business_ids': ['BQMVcJQV70gUQjwi7-MrSg', 'bvZHCeHIOMMzIIANFl2zEA', 'ObNQVg_ohRVLex4ppmMC5w', 'Lx7e54TaIPtxW5aZ6Ze38A', 'DFZnNrIZu1_oHv-4aaxJbg', 'bqiBdnyfYxTc4r8hY28q1g', 'xFXMYwm_60C4UisipsGpTg', 'mXjdBZNTF9pj-A9SKVihEw', 'RTiw2W5hTvzAmI0iaWvb0A', 'th4pZ5LkoIIkb1Vmu_m2DA'], 'review_count': 38, 'star_list': [4, 4, 2, 3, 4, 5, 4, 3, 4, 4], 'average_stars': 3.98, 'gave_funny': 0, 'fans': 1, 'cool': 0, 'gave_useful': 0, 'friends': 29, 'funny': 0, 'useful': 4, 'gave_cool': 0}\n",
      "Me_SF73gWwaS1Yfa64DIqg\n",
      "{'business_ids': ['4buRElPC3-ka-s2q55VVFw'], 'review_count': 105, 'star_list': [2], 'average_stars': 4.37, 'gave_funny': 0, 'fans': 3, 'cool': 0, 'gave_useful': 5, 'friends': 99, 'funny': 0, 'useful': 0, 'gave_cool': 0}\n",
      "BThE29nGS07pIIExKy9o8A\n",
      "{'business_ids': ['N6MzDoao6s68nAIW8vS9dQ'], 'review_count': 42, 'star_list': [5], 'average_stars': 3.5, 'gave_funny': 29, 'fans': 3, 'cool': 0, 'gave_useful': 61, 'friends': 16, 'funny': 0, 'useful': 1, 'gave_cool': 41}\n",
      "i5IHjaXMorNY4udx6JQXCQ\n",
      "{'business_ids': ['jWv5GUtEp30OD5L5C8c2DQ'], 'review_count': 9, 'star_list': [5], 'average_stars': 3.78, 'gave_funny': 0, 'fans': 0, 'cool': 0, 'gave_useful': 0, 'friends': 0, 'funny': 0, 'useful': 0, 'gave_cool': 0}\n",
      "fKC4WFEMCcW-e9b5VYOWKw\n",
      "{'business_ids': ['gQMAcDm8kv8ev7x2BshMwg', '85o8XAZDoPmRqHFhdJLAGg', 'JQYkVnUzS5vgFxZgCuW7ag'], 'review_count': 8, 'star_list': [5, 4, 5], 'average_stars': 3.22, 'gave_funny': 0, 'fans': 2, 'cool': 5, 'gave_useful': 11, 'friends': 192, 'funny': 2, 'useful': 8, 'gave_cool': 0}\n",
      "TKh5oJVXABPyBgEKNNHCnQ\n",
      "{'business_ids': ['IT_4EEIbv6Ox1jBRMyE7pg'], 'review_count': 5, 'star_list': [5], 'average_stars': 3.6, 'gave_funny': 0, 'fans': 0, 'cool': 0, 'gave_useful': 0, 'friends': 0, 'funny': 0, 'useful': 1, 'gave_cool': 0}\n"
     ]
    }
   ],
   "source": [
    "count = 0\n",
    "for uid, data in master_users.items():\n",
    "    if count > 100000:\n",
    "        print(uid)\n",
    "        print(data)\n",
    "    if count > 100010:\n",
    "        break\n",
    "    count += 1"
   ]
  },
  {
   "cell_type": "code",
   "execution_count": 125,
   "metadata": {
    "collapsed": true
   },
   "outputs": [],
   "source": [
    "biz_file = 'yelp_data/business_compressed.csv'\n",
    "\n",
    "businesses = {}\n",
    "\n",
    "with open(biz_file, newline='') as business_data:\n",
    "    \n",
    "    reader = csv.DictReader(business_data, delimiter=\",\")\n",
    "    \n",
    "    for business in reader:\n",
    "        bid = business.pop('business_id')\n",
    "        businesses[bid] = business\n",
    "        "
   ]
  },
  {
   "cell_type": "code",
   "execution_count": 126,
   "metadata": {},
   "outputs": [
    {
     "data": {
      "text/plain": [
       "{'city': 'Phoenix',\n",
       " 'latitude': '33.5100117',\n",
       " 'longitude': '-112.0960331',\n",
       " 'postal_code': '85015',\n",
       " 'review_count': '582',\n",
       " 'stars': '4.0',\n",
       " 'topic': '11'}"
      ]
     },
     "execution_count": 126,
     "metadata": {},
     "output_type": "execute_result"
    }
   ],
   "source": [
    "businesses['gQMAcDm8kv8ev7x2BshMwg']"
   ]
  },
  {
   "cell_type": "code",
   "execution_count": 127,
   "metadata": {},
   "outputs": [],
   "source": [
    "for uid, data in master_users.items():\n",
    "    data['lat_longs'] = []\n",
    "    data['topics'] = []\n",
    "    data['zips'] = []\n",
    "#     the number of other reviews for each reviewed business\n",
    "    data['mutual_reviews'] = []\n",
    "    data['business_stars'] = []\n",
    "    biz_ids = data.pop('business_ids')\n",
    "    \n",
    "    for bid in biz_ids:\n",
    "        \n",
    "        biz_data = businesses[bid]\n",
    "        data['lat_longs'].append((biz_data['latitude'], biz_data['longitude']))\n",
    "        data['topics'].append(biz_data['topic'])\n",
    "        if biz_data['postal_code']:\n",
    "            data['zips'].append(biz_data['postal_code'])\n",
    "        data['mutual_reviews'].append(biz_data['review_count'])\n",
    "        data['business_stars'].append(biz_data['stars'])"
   ]
  },
  {
   "cell_type": "code",
   "execution_count": 128,
   "metadata": {},
   "outputs": [
    {
     "data": {
      "text/plain": [
       "{'average_stars': 5.0,\n",
       " 'business_stars': ['5.0', '4.5'],\n",
       " 'cool': 1,\n",
       " 'fans': 0,\n",
       " 'friends': 245,\n",
       " 'funny': 0,\n",
       " 'gave_cool': 1,\n",
       " 'gave_funny': 0,\n",
       " 'gave_useful': 0,\n",
       " 'lat_longs': [('33.699168', '-111.892549'),\n",
       "  ('33.4525298384', '-111.926886571')],\n",
       " 'mutual_reviews': ['34', '295'],\n",
       " 'review_count': 2,\n",
       " 'star_list': [5, 5],\n",
       " 'topics': ['24', '1'],\n",
       " 'useful': 2,\n",
       " 'zips': ['85253', '85281']}"
      ]
     },
     "execution_count": 128,
     "metadata": {},
     "output_type": "execute_result"
    }
   ],
   "source": [
    "master_users['Q96ZvYyAYvfkhGDObyHhEA']"
   ]
  },
  {
   "cell_type": "code",
   "execution_count": 129,
   "metadata": {
    "collapsed": true
   },
   "outputs": [],
   "source": [
    "user_out = 'yelp_data/final_user.json'\n",
    "\n",
    "with open(user_out, 'w') as outfile:\n",
    "    \n",
    "    for uid, user in master_users.items():\n",
    "        user['user_id'] = uid\n",
    "        outfile.write(json.dumps(user) + '\\n')"
   ]
  },
  {
   "cell_type": "code",
   "execution_count": null,
   "metadata": {
    "collapsed": true
   },
   "outputs": [],
   "source": []
  },
  {
   "cell_type": "code",
   "execution_count": null,
   "metadata": {
    "collapsed": true
   },
   "outputs": [],
   "source": []
  }
 ],
 "metadata": {
  "kernelspec": {
   "display_name": "Python 3",
   "language": "python",
   "name": "python3"
  },
  "language_info": {
   "codemirror_mode": {
    "name": "ipython",
    "version": 3
   },
   "file_extension": ".py",
   "mimetype": "text/x-python",
   "name": "python",
   "nbconvert_exporter": "python",
   "pygments_lexer": "ipython3",
   "version": "3.5.1"
  }
 },
 "nbformat": 4,
 "nbformat_minor": 2
}
